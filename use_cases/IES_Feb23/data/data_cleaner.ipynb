{
 "cells": [
  {
   "cell_type": "code",
   "execution_count": 1,
   "metadata": {},
   "outputs": [],
   "source": [
    "import pandas as pd\n",
    "import os\n",
    "import shutil"
   ]
  },
  {
   "cell_type": "code",
   "execution_count": 41,
   "metadata": {},
   "outputs": [],
   "source": [
    "case = \"NYISO_fitzpatrick\"\n",
    "min_year = 2012\n",
    "max_year = 2021\n",
    "end_year = 2049\n",
    "data_type = \"DA\"\n",
    "#case = \"NYISO_Ginna\"\n",
    "dest_folder = os.path.join(\"./electricity_markets/\",case)\n",
    "original_data_folder = os.path.join(dest_folder,\"original_data/\")\n",
    "original_files = os.listdir(original_data_folder)"
   ]
  },
  {
   "cell_type": "code",
   "execution_count": 28,
   "metadata": {},
   "outputs": [],
   "source": [
    "\n",
    "def cleanup_data(df):\n",
    "  todrop = []\n",
    "  for c in df.columns:\n",
    "    if \"LBMP\" in c:\n",
    "      df.rename(columns={c:'price'}, inplace=True)\n",
    "    else:\n",
    "      todrop.append(c)\n",
    "  df.drop(columns=todrop, axis=1, inplace=True)\n",
    "  df['hour'] = [i for i in range(1,1+len(df))]\n",
    "  # Remove additional day if necessary\n",
    "  index_todrop= df[ df['hour'] >= 8761 ].index\n",
    "  df.drop(index_todrop, inplace = True)\n",
    "  return df"
   ]
  },
  {
   "cell_type": "code",
   "execution_count": 30,
   "metadata": {},
   "outputs": [
    {
     "name": "stdout",
     "output_type": "stream",
     "text": [
      "./electricity_markets/NYISO_FitzPatrick/2012_fitzpatrick_DA.csv\n",
      "./electricity_markets/NYISO_FitzPatrick/2021_fitzpatrick_DA.csv\n",
      "./electricity_markets/NYISO_FitzPatrick/2017_fitzpatrick_DA.csv\n",
      "./electricity_markets/NYISO_FitzPatrick/2019_fitzpatrick_DA.csv\n",
      "./electricity_markets/NYISO_FitzPatrick/2014_fitzpatrick_DA.csv\n",
      "./electricity_markets/NYISO_FitzPatrick/2018_fitzpatrick_DA.csv\n",
      "./electricity_markets/NYISO_FitzPatrick/2015_fitzpatrick_DA.csv\n",
      "./electricity_markets/NYISO_FitzPatrick/2016_fitzpatrick_DA.csv\n",
      "./electricity_markets/NYISO_FitzPatrick/2020_fitzpatrick_DA.csv\n",
      "./electricity_markets/NYISO_FitzPatrick/2013_fitzpatrick_DA.csv\n"
     ]
    }
   ],
   "source": [
    "files_list = []\n",
    "for f in original_files:\n",
    "  if f.endswith('csv'):\n",
    "    fsplit = f.split(\"_\")\n",
    "    year = int(fsplit[0])\n",
    "    if min_year <= year and max_year >= year:\n",
    "      present_file = os.path.abspath(os.path.join(original_data_folder,f))\n",
    "      files_list.append(present_file)\n",
    "      df = pd.read_csv(present_file)\n",
    "      df = cleanup_data(df)\n",
    "      # Move write cleaned-up data to destination folder\n",
    "      clean_file = os.path.join(dest_folder,f)\n",
    "      print(clean_file)\n",
    "      df.to_csv(clean_file, index=False)\n",
    "      #print(df)\n"
   ]
  },
  {
   "cell_type": "markdown",
   "metadata": {},
   "source": [
    "Create the pointer file for ARMA in train folder"
   ]
  },
  {
   "cell_type": "code",
   "execution_count": 44,
   "metadata": {},
   "outputs": [
    {
     "data": {
      "text/html": [
       "<div>\n",
       "<style scoped>\n",
       "    .dataframe tbody tr th:only-of-type {\n",
       "        vertical-align: middle;\n",
       "    }\n",
       "\n",
       "    .dataframe tbody tr th {\n",
       "        vertical-align: top;\n",
       "    }\n",
       "\n",
       "    .dataframe thead th {\n",
       "        text-align: right;\n",
       "    }\n",
       "</style>\n",
       "<table border=\"1\" class=\"dataframe\">\n",
       "  <thead>\n",
       "    <tr style=\"text-align: right;\">\n",
       "      <th></th>\n",
       "      <th>scaling</th>\n",
       "      <th>Year</th>\n",
       "      <th>filename</th>\n",
       "    </tr>\n",
       "  </thead>\n",
       "  <tbody>\n",
       "    <tr>\n",
       "      <th>33</th>\n",
       "      <td>1</td>\n",
       "      <td>2045</td>\n",
       "      <td>/Users/garrm/FORCE/use_cases/IES_Feb23/data/el...</td>\n",
       "    </tr>\n",
       "    <tr>\n",
       "      <th>34</th>\n",
       "      <td>1</td>\n",
       "      <td>2046</td>\n",
       "      <td>/Users/garrm/FORCE/use_cases/IES_Feb23/data/el...</td>\n",
       "    </tr>\n",
       "    <tr>\n",
       "      <th>35</th>\n",
       "      <td>1</td>\n",
       "      <td>2047</td>\n",
       "      <td>/Users/garrm/FORCE/use_cases/IES_Feb23/data/el...</td>\n",
       "    </tr>\n",
       "    <tr>\n",
       "      <th>36</th>\n",
       "      <td>1</td>\n",
       "      <td>2048</td>\n",
       "      <td>/Users/garrm/FORCE/use_cases/IES_Feb23/data/el...</td>\n",
       "    </tr>\n",
       "    <tr>\n",
       "      <th>37</th>\n",
       "      <td>1</td>\n",
       "      <td>2049</td>\n",
       "      <td>/Users/garrm/FORCE/use_cases/IES_Feb23/data/el...</td>\n",
       "    </tr>\n",
       "  </tbody>\n",
       "</table>\n",
       "</div>"
      ],
      "text/plain": [
       "    scaling  Year                                           filename\n",
       "33        1  2045  /Users/garrm/FORCE/use_cases/IES_Feb23/data/el...\n",
       "34        1  2046  /Users/garrm/FORCE/use_cases/IES_Feb23/data/el...\n",
       "35        1  2047  /Users/garrm/FORCE/use_cases/IES_Feb23/data/el...\n",
       "36        1  2048  /Users/garrm/FORCE/use_cases/IES_Feb23/data/el...\n",
       "37        1  2049  /Users/garrm/FORCE/use_cases/IES_Feb23/data/el..."
      ]
     },
     "execution_count": 44,
     "metadata": {},
     "output_type": "execute_result"
    }
   ],
   "source": [
    "plant = case.split(\"_\")[1]\n",
    "pointer_file = os.path.join(\"../train/\",\"ARMA_pointer_{}_{}_{}_{}.csv\".format(plant,str(min_year),str(max_year),data_type))\n",
    "pointer_file\n",
    "pointer_df = pd.DataFrame()\n",
    "pointer_df['scaling'] = [1 for i in range(min_year, end_year+1)]\n",
    "pointer_df['Year'] = [i for i in range(min_year, end_year+1)]\n",
    "pointer_df['filename'] = [ files_list[i%len(files_list)] for i in range(end_year+1-min_year)]\n",
    "pointer_df.to_csv(pointer_file, index=False)"
   ]
  }
 ],
 "metadata": {
  "kernelspec": {
   "display_name": "Python 3.9.13 ('base')",
   "language": "python",
   "name": "python3"
  },
  "language_info": {
   "codemirror_mode": {
    "name": "ipython",
    "version": 3
   },
   "file_extension": ".py",
   "mimetype": "text/x-python",
   "name": "python",
   "nbconvert_exporter": "python",
   "pygments_lexer": "ipython3",
   "version": "3.9.13"
  },
  "orig_nbformat": 4,
  "vscode": {
   "interpreter": {
    "hash": "3d597f4c481aa0f25dceb95d2a0067e73c0966dcbd003d741d821a7208527ecf"
   }
  }
 },
 "nbformat": 4,
 "nbformat_minor": 2
}
