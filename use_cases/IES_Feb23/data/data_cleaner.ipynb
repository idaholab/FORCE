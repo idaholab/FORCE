{
 "cells": [
  {
   "cell_type": "code",
   "execution_count": 11,
   "metadata": {},
   "outputs": [],
   "source": [
    "import pandas as pd\n",
    "import os\n",
    "import shutil"
   ]
  },
  {
   "cell_type": "code",
   "execution_count": 32,
   "metadata": {},
   "outputs": [],
   "source": [
    "case = \"NYISO_FitzPatrick\"\n",
    "#case = \"NYISO_Ginna\"\n",
    "folder = os.path.join(\"./electricity_markets/\",case)\n",
    "files = os.listdir(folder)\n",
    "dest_folder = os.path.join(folder,\"original_data/\")\n",
    "if not os.path.exists(dest_folder):\n",
    "  os.makedirs(dest_folder)"
   ]
  },
  {
   "cell_type": "code",
   "execution_count": 33,
   "metadata": {},
   "outputs": [],
   "source": [
    "\n",
    "def cleanup_data(df):\n",
    "  todrop = []\n",
    "  for c in df.columns:\n",
    "    if \"LBMP\" in c:\n",
    "      df.rename(columns={c:'price'}, inplace=True)\n",
    "    else:\n",
    "      todrop.append(c)\n",
    "  df.drop(columns=todrop, axis=1, inplace=True)\n",
    "  df['hour'] = [i for i in range(1,1+len(df))]\n",
    "  return df"
   ]
  },
  {
   "cell_type": "code",
   "execution_count": 34,
   "metadata": {},
   "outputs": [
    {
     "name": "stdout",
     "output_type": "stream",
     "text": [
      "./electricity_markets/NYISO_FitzPatrick/2012_fitzpatrick_DA.csv\n",
      "./electricity_markets/NYISO_FitzPatrick/2021_fitzpatrick_DA.csv\n",
      "./electricity_markets/NYISO_FitzPatrick/2017_fitzpatrick_DA.csv\n",
      "./electricity_markets/NYISO_FitzPatrick/2019_fitzpatrick_DA.csv\n",
      "./electricity_markets/NYISO_FitzPatrick/2014_fitzpatrick_DA.csv\n",
      "./electricity_markets/NYISO_FitzPatrick/2018_fitzpatrick_DA.csv\n",
      "./electricity_markets/NYISO_FitzPatrick/2015_fitzpatrick_DA.csv\n",
      "./electricity_markets/NYISO_FitzPatrick/2016_fitzpatrick_DA.csv\n",
      "./electricity_markets/NYISO_FitzPatrick/2020_fitzpatrick_DA.csv\n",
      "./electricity_markets/NYISO_FitzPatrick/2013_fitzpatrick_DA.csv\n"
     ]
    }
   ],
   "source": [
    "for f in files:\n",
    "  if f.endswith('csv'):\n",
    "    present_file = os.path.join(folder,f)\n",
    "    print(present_file)\n",
    "    df = pd.read_csv(present_file)\n",
    "    df = cleanup_data(df)\n",
    "    # Move old file\n",
    "    if not os.path.exists(os.path.join(dest_folder,f)):\n",
    "      shutil.move(present_file, os.path.join(dest_folder,f))\n",
    "    # Rewrite\n",
    "    df.to_csv(present_file, index=False)\n",
    "    #print(df)\n"
   ]
  }
 ],
 "metadata": {
  "kernelspec": {
   "display_name": "Python 3.9.13 ('base')",
   "language": "python",
   "name": "python3"
  },
  "language_info": {
   "codemirror_mode": {
    "name": "ipython",
    "version": 3
   },
   "file_extension": ".py",
   "mimetype": "text/x-python",
   "name": "python",
   "nbconvert_exporter": "python",
   "pygments_lexer": "ipython3",
   "version": "3.9.13"
  },
  "orig_nbformat": 4,
  "vscode": {
   "interpreter": {
    "hash": "3d597f4c481aa0f25dceb95d2a0067e73c0966dcbd003d741d821a7208527ecf"
   }
  }
 },
 "nbformat": 4,
 "nbformat_minor": 2
}
