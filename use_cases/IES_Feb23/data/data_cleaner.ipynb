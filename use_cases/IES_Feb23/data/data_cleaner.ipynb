{
 "cells": [
  {
   "cell_type": "code",
   "execution_count": null,
   "metadata": {},
   "outputs": [],
   "source": [
    "import pandas as pd\n",
    "import os\n",
    "import shutil"
   ]
  },
  {
   "cell_type": "code",
   "execution_count": 19,
   "metadata": {},
   "outputs": [
    {
     "name": "stdout",
     "output_type": "stream",
     "text": [
      "../data/electricity_markets/NYISO_ginna\n"
     ]
    }
   ],
   "source": [
    "case = \"NYISO_ginna\"\n",
    "min_year = 2012\n",
    "max_year = 2021\n",
    "end_year = 2049\n",
    "data_type = \"DA\"\n",
    "#case = \"NYISO_Ginna\"\n",
    "dest_folder = os.path.join(\"electricity_markets/\",case)\n",
    "original_data_folder = os.path.join(dest_folder,\"original_data/\")\n",
    "original_files = os.listdir(original_data_folder)\n",
    "use_case_folder_data = os.path.join(\"..\",\"data\")\n",
    "use_case_folder_data\n",
    "print(os.path.join(use_case_folder_data,dest_folder))"
   ]
  },
  {
   "cell_type": "code",
   "execution_count": 20,
   "metadata": {},
   "outputs": [],
   "source": [
    "\n",
    "def cleanup_data(df):\n",
    "  todrop = []\n",
    "  for c in df.columns:\n",
    "    if \"LBMP\" in c:\n",
    "      df.rename(columns={c:'price'}, inplace=True)\n",
    "    elif \"price\"==c:\n",
    "      pass\n",
    "    else:\n",
    "      todrop.append(c)\n",
    "  df.drop(columns=todrop, axis=1, inplace=True)\n",
    "  df['hour'] = [i for i in range(1,1+len(df))]\n",
    "  # Remove additional day if necessary\n",
    "  index_todrop= df[ df['hour'] >= 8761 ].index\n",
    "  df.drop(index_todrop, inplace = True)\n",
    "  return df"
   ]
  },
  {
   "cell_type": "code",
   "execution_count": 21,
   "metadata": {},
   "outputs": [
    {
     "name": "stdout",
     "output_type": "stream",
     "text": [
      "['../data/electricity_markets/NYISO_ginna/2012_ginna_DA.csv', '../data/electricity_markets/NYISO_ginna/2013_ginna_DA.csv', '../data/electricity_markets/NYISO_ginna/2014_ginna_DA.csv', '../data/electricity_markets/NYISO_ginna/2015_ginna_DA.csv', '../data/electricity_markets/NYISO_ginna/2016_ginna_DA.csv', '../data/electricity_markets/NYISO_ginna/2017_ginna_DA.csv', '../data/electricity_markets/NYISO_ginna/2018_ginna_DA.csv', '../data/electricity_markets/NYISO_ginna/2019_ginna_DA.csv', '../data/electricity_markets/NYISO_ginna/2020_ginna_DA.csv', '../data/electricity_markets/NYISO_ginna/2021_ginna_DA.csv']\n"
     ]
    }
   ],
   "source": [
    "files_list = []\n",
    "for f in original_files:\n",
    "  if f.endswith('csv'):\n",
    "    fsplit = f.split(\"_\")\n",
    "    year = int(fsplit[0])\n",
    "    if min_year <= year and max_year >= year:\n",
    "      present_file = os.path.abspath(os.path.join(original_data_folder,f))\n",
    "      df = pd.read_csv(present_file)\n",
    "      df = cleanup_data(df)\n",
    "      # Move write cleaned-up data to destination folder\n",
    "      clean_file = os.path.join(use_case_folder_data, dest_folder,f)\n",
    "      files_list.append(clean_file)\n",
    "      df.to_csv(clean_file, index=False)\n",
    "      #print(df)\n",
    "files_list.sort()\n",
    "print(files_list)"
   ]
  },
  {
   "cell_type": "markdown",
   "metadata": {},
   "source": [
    "Create the pointer file for ARMA in train folder"
   ]
  },
  {
   "cell_type": "code",
   "execution_count": 22,
   "metadata": {},
   "outputs": [
    {
     "name": "stdout",
     "output_type": "stream",
     "text": [
      "['ginna']\n",
      "ginna\n"
     ]
    }
   ],
   "source": [
    "plant = case.split(\"_\")[1:]\n",
    "print(plant)\n",
    "if len(plant)>1:\n",
    "  plant = ('_').join(plant)\n",
    "else:\n",
    "  plant = plant[0]\n",
    "print(plant)\n",
    "pointer_file = os.path.join(\"../train/\",\"ARMA_pointer_{}_{}_{}_{}.csv\".format(plant,str(min_year),str(max_year),data_type))\n",
    "pointer_file\n",
    "pointer_df = pd.DataFrame()\n",
    "pointer_df['scaling'] = [1 for i in range(min_year, end_year+1)]\n",
    "pointer_df['Year'] = [i for i in range(min_year, end_year+1)]\n",
    "pointer_df['filename'] = [ files_list[i%len(files_list)] for i in range(end_year+1-min_year)]\n",
    "pointer_df.to_csv(pointer_file, index=False)"
   ]
  }
 ],
 "metadata": {
  "kernelspec": {
   "display_name": "Python 3.9.13 ('base')",
   "language": "python",
   "name": "python3"
  },
  "language_info": {
   "codemirror_mode": {
    "name": "ipython",
    "version": 3
   },
   "file_extension": ".py",
   "mimetype": "text/x-python",
   "name": "python",
   "nbconvert_exporter": "python",
   "pygments_lexer": "ipython3",
   "version": "3.9.13"
  },
  "orig_nbformat": 4,
  "vscode": {
   "interpreter": {
    "hash": "3d597f4c481aa0f25dceb95d2a0067e73c0966dcbd003d741d821a7208527ecf"
   }
  }
 },
 "nbformat": 4,
 "nbformat_minor": 2
}
